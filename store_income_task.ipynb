{
 "cells": [
  {
   "cell_type": "code",
   "execution_count": 278,
   "id": "84c1a28e-aaac-41f1-9094-d5c22ee73c8c",
   "metadata": {
    "executionCancelledAt": null,
    "executionTime": 50,
    "lastExecutedAt": 1699558628809,
    "lastScheduledRunId": null,
    "lastSuccessfullyExecutedCode": "import  numpy as np\nimport pandas as pd\nimport datetime"
   },
   "outputs": [],
   "source": [
    "import  numpy as np\n",
    "import pandas as pd\n",
    "import datetime"
   ]
  },
  {
   "cell_type": "code",
   "execution_count": 279,
   "id": "302707ab-bd06-49f7-a24d-6a3cf6cf1649",
   "metadata": {
    "executionCancelledAt": null,
    "executionTime": 52,
    "lastExecutedAt": 1699558628862,
    "lastScheduledRunId": null,
    "lastSuccessfullyExecutedCode": "# import and view the data frame\ndf =  pd.read_csv(\"store_income_data_task.csv\")\nprint(df.head())",
    "outputsMetadata": {
     "0": {
      "height": 173,
      "type": "stream"
     }
    }
   },
   "outputs": [
    {
     "name": "stdout",
     "output_type": "stream",
     "text": [
      "   id                   store_name  ... date_measured          country\n",
      "0   1   Cullen/Frost Bankers, Inc.  ...      4-2-2006   United States/\n",
      "1   2          Nordson Corporation  ...      4-1-2006          Britain\n",
      "2   3        Stag Industrial, Inc.  ...     12-9-2003    United States\n",
      "3   4          FIRST REPUBLIC BANK  ...      8-5-2006         Britain/\n",
      "4   5  Mercantile Bank Corporation  ...     21-1-1973   United Kingdom\n",
      "\n",
      "[5 rows x 7 columns]\n"
     ]
    }
   ],
   "source": [
    "# import and view the data frame\n",
    "df =  pd.read_csv(\"store_income_data_task.csv\")\n",
    "print(df.head())"
   ]
  },
  {
   "cell_type": "code",
   "execution_count": 280,
   "id": "b715e1e8-3953-4cd8-9050-31bcf3da1e53",
   "metadata": {
    "executionCancelledAt": null,
    "executionTime": 51,
    "lastExecutedAt": 1699558628913,
    "lastScheduledRunId": null,
    "lastSuccessfullyExecutedCode": "# view the country column\nprint(df['country'])\nprint()\nprint(f\"The number of unique countries in the country column is {len(df['country'].unique())}\")\nprint()\nprint(df['country'].unique())\n",
    "outputsMetadata": {
     "0": {
      "height": 478,
      "type": "stream"
     }
    }
   },
   "outputs": [
    {
     "name": "stdout",
     "output_type": "stream",
     "text": [
      "0                United States/\n",
      "1                       Britain\n",
      "2                 United States\n",
      "3                      Britain/\n",
      "4                United Kingdom\n",
      "                 ...           \n",
      "995      S. AfricaSouth Africa/\n",
      "996               United States\n",
      "997    UNITED STATES OF AMERICA\n",
      "998                     England\n",
      "999              united kingdom\n",
      "Name: country, Length: 1000, dtype: object\n",
      "\n",
      "The number of unique countries in the country column is 77\n",
      "\n",
      "['United States/' 'Britain' ' United States' 'Britain/' ' United Kingdom'\n",
      " 'U.K.' 'SA ' 'U.K/' 'America' 'United Kingdom' nan 'united states'\n",
      " ' S.A.' 'England ' 'UK' 'S.A./' 'ENGLAND' 'BRITAIN' 'U.K' 'U.K '\n",
      " 'America/' 'SA.' 'S.A. ' 'u.k' 'uk' ' ' 'UK.' 'England/' 'england'\n",
      " ' Britain' 'united states of america' 'UK/' 'SA/' 'SA' 'England.'\n",
      " 'UNITED KINGDOM' 'America.' 'S.A..' 's.a.' ' U.K'\n",
      " ' United States of America' 'Britain ' 'England' ' SA'\n",
      " 'United States of America.' 'United States of America/' 'United States.'\n",
      " 's. africasouth africa' ' England' 'United Kingdom '\n",
      " 'United States of America ' ' UK' 'united kingdom' 'AMERICA' 'America '\n",
      " 'UNITED STATES OF AMERICA' ' S. AfricaSouth Africa' 'america'\n",
      " 'S. AFRICASOUTH AFRICA' 'Britain.' '/' 'United Kingdom.' 'United States'\n",
      " ' America' 'UNITED STATES' 'sa' 'United States of America' 'UK '\n",
      " 'United States ' 'S. AfricaSouth Africa/' 'S.A.' 'United Kingdom/'\n",
      " 'S. AfricaSouth Africa ' 'S. AfricaSouth Africa.' 'S. AfricaSouth Africa'\n",
      " '.' 'britain']\n"
     ]
    }
   ],
   "source": [
    "# view the country column\n",
    "print(df['country'])\n",
    "print()\n",
    "print(f\"The number of unique countries in the country column is {len(df['country'].unique())}\")\n",
    "print()\n",
    "print(df['country'].unique())\n"
   ]
  },
  {
   "cell_type": "code",
   "execution_count": 281,
   "id": "f539f168-c940-4e76-9bab-96dbd6e2d257",
   "metadata": {
    "executionCancelledAt": null,
    "executionTime": 48,
    "lastExecutedAt": 1699558628961,
    "lastScheduledRunId": null,
    "lastSuccessfullyExecutedCode": "# convert all values in the countries column to small case letters\ndf['country'] = df['country'].str.lower()\nprint(f\"The number of unique countries in the country column is {len(df['country'].unique())}\")\nprint()\nprint(df['country'].unique())\n",
    "outputsMetadata": {
     "0": {
      "height": 271,
      "type": "stream"
     }
    }
   },
   "outputs": [
    {
     "name": "stdout",
     "output_type": "stream",
     "text": [
      "The number of unique countries in the country column is 59\n",
      "\n",
      "['united states/' 'britain' ' united states' 'britain/' ' united kingdom'\n",
      " 'u.k.' 'sa ' 'u.k/' 'america' 'united kingdom' nan 'united states'\n",
      " ' s.a.' 'england ' 'uk' 's.a./' 'england' 'u.k' 'u.k ' 'america/' 'sa.'\n",
      " 's.a. ' ' ' 'uk.' 'england/' ' britain' 'united states of america' 'uk/'\n",
      " 'sa/' 'sa' 'england.' 'america.' 's.a..' 's.a.' ' u.k'\n",
      " ' united states of america' 'britain ' ' sa' 'united states of america.'\n",
      " 'united states of america/' 'united states.' 's. africasouth africa'\n",
      " ' england' 'united kingdom ' 'united states of america ' ' uk' 'america '\n",
      " ' s. africasouth africa' 'britain.' '/' 'united kingdom.' ' america'\n",
      " 'uk ' 'united states ' 's. africasouth africa/' 'united kingdom/'\n",
      " 's. africasouth africa ' 's. africasouth africa.' '.']\n"
     ]
    }
   ],
   "source": [
    "# convert all values in the countries column to small case letters\n",
    "df['country'] = df['country'].str.lower()\n",
    "print(f\"The number of unique countries in the country column is {len(df['country'].unique())}\")\n",
    "print()\n",
    "print(df['country'].unique())\n"
   ]
  },
  {
   "cell_type": "code",
   "execution_count": 282,
   "id": "2fe2afa6-2b86-4c97-818c-d3d8d997baf6",
   "metadata": {
    "executionCancelledAt": null,
    "executionTime": 53,
    "lastExecutedAt": 1699558629014,
    "lastScheduledRunId": null,
    "lastSuccessfullyExecutedCode": "# strip all the forward slash, dots and spaces\ndf['country'] = df['country'].str.strip('/. ')\nprint(f\"The number of unique countries in the country column is {len(df['country'].unique())}\")\nprint()\nprint(df['country'].unique())\n",
    "outputsMetadata": {
     "0": {
      "height": 95,
      "type": "stream"
     }
    }
   },
   "outputs": [
    {
     "name": "stdout",
     "output_type": "stream",
     "text": [
      "The number of unique countries in the country column is 13\n",
      "\n",
      "['united states' 'britain' 'united kingdom' 'u.k' 'sa' 'america' nan 's.a'\n",
      " 'england' 'uk' '' 'united states of america' 's. africasouth africa']\n"
     ]
    }
   ],
   "source": [
    "# strip all the forward slash, dots and spaces\n",
    "df['country'] = df['country'].str.strip('/. ')\n",
    "print(f\"The number of unique countries in the country column is {len(df['country'].unique())}\")\n",
    "print()\n",
    "print(df['country'].unique())\n"
   ]
  },
  {
   "cell_type": "code",
   "execution_count": 283,
   "id": "1bb2b273-3c58-468d-8f05-61bb4edd0021",
   "metadata": {
    "executionCancelledAt": null,
    "executionTime": 55,
    "lastExecutedAt": 1699558629069,
    "lastScheduledRunId": null,
    "lastSuccessfullyExecutedCode": "# convert [u.k, england, uk, and britain] to united kingdom\ndf['country'] = df['country'].str.replace('u.k','united kingdom')\ndf['country'] = df['country'].str.replace('england','united kingdom')\ndf['country'] = df['country'].str.replace('uk','united kingdom')\ndf['country'] = df['country'].str.replace('britain','united kingdom')\nprint(f\"The number of unique countries in the country column is {len(df['country'].unique())}\")\nprint()\nprint(df['country'].unique())",
    "outputsMetadata": {
     "0": {
      "height": 95,
      "type": "stream"
     }
    }
   },
   "outputs": [
    {
     "name": "stdout",
     "output_type": "stream",
     "text": [
      "The number of unique countries in the country column is 9\n",
      "\n",
      "['united states' 'united kingdom' 'sa' 'america' nan 's.a' ''\n",
      " 'united states of america' 's. africasouth africa']\n"
     ]
    }
   ],
   "source": [
    "# convert [u.k, england, uk, and britain] to united kingdom\n",
    "df['country'] = df['country'].str.replace('u.k','united kingdom')\n",
    "df['country'] = df['country'].str.replace('england','united kingdom')\n",
    "df['country'] = df['country'].str.replace('uk','united kingdom')\n",
    "df['country'] = df['country'].str.replace('britain','united kingdom')\n",
    "print(f\"The number of unique countries in the country column is {len(df['country'].unique())}\")\n",
    "print()\n",
    "print(df['country'].unique())"
   ]
  },
  {
   "cell_type": "code",
   "execution_count": 284,
   "id": "37e3fc2e-4e5e-4e20-8f6a-0ee0245ba6df",
   "metadata": {
    "executionCancelledAt": null,
    "executionTime": 49,
    "lastExecutedAt": 1699558629118,
    "lastScheduledRunId": null,
    "lastSuccessfullyExecutedCode": "# covert [america, united states of america and united states of united states] to united states\ndf['country'] = df['country'].str.replace('america','united states')\ndf['country'] = df['country'].str.replace('united states of america','united states')\ndf['country'] = df['country'].str.replace('united states of united states','united states')\nprint(f\"The number of unique countries in the country column is {len(df['country'].unique())}\")\nprint()\nprint(df['country'].unique())",
    "outputsMetadata": {
     "0": {
      "height": 95,
      "type": "stream"
     }
    }
   },
   "outputs": [
    {
     "name": "stdout",
     "output_type": "stream",
     "text": [
      "The number of unique countries in the country column is 7\n",
      "\n",
      "['united states' 'united kingdom' 'sa' nan 's.a' ''\n",
      " 's. africasouth africa']\n"
     ]
    }
   ],
   "source": [
    "# covert [america, united states of america and united states of united states] to united states\n",
    "df['country'] = df['country'].str.replace('america','united states')\n",
    "df['country'] = df['country'].str.replace('united states of america','united states')\n",
    "df['country'] = df['country'].str.replace('united states of united states','united states')\n",
    "print(f\"The number of unique countries in the country column is {len(df['country'].unique())}\")\n",
    "print()\n",
    "print(df['country'].unique())"
   ]
  },
  {
   "cell_type": "code",
   "execution_count": 285,
   "id": "c0a676b7-a4bc-4e68-9b7e-38231b92ddd6",
   "metadata": {
    "executionCancelledAt": null,
    "executionTime": 51,
    "lastExecutedAt": 1699558629169,
    "lastScheduledRunId": null,
    "lastSuccessfullyExecutedCode": "# convert [sa, s.a and s. africasouth africa] to south africa\ndf.country.replace(\"sa\", \"south africa\",inplace=True)\ndf.country.replace(\"s.a\", \"south africa\",inplace=True)\ndf.country.replace(\"s. africasouth africa\", \"south africa\",inplace=True)\n\nprint(f\"The number of unique countries in the country column is {len(df['country'].unique())}\")\nprint()\nprint(df['country'].unique())",
    "outputsMetadata": {
     "0": {
      "height": 76,
      "type": "stream"
     }
    }
   },
   "outputs": [
    {
     "name": "stdout",
     "output_type": "stream",
     "text": [
      "The number of unique countries in the country column is 5\n",
      "\n",
      "['united states' 'united kingdom' 'south africa' nan '']\n"
     ]
    }
   ],
   "source": [
    "# convert [sa, s.a and s. africasouth africa] to south africa\n",
    "df.country.replace(\"sa\", \"south africa\",inplace=True)\n",
    "df.country.replace(\"s.a\", \"south africa\",inplace=True)\n",
    "df.country.replace(\"s. africasouth africa\", \"south africa\",inplace=True)\n",
    "\n",
    "print(f\"The number of unique countries in the country column is {len(df['country'].unique())}\")\n",
    "print()\n",
    "print(df['country'].unique())"
   ]
  },
  {
   "cell_type": "code",
   "execution_count": 286,
   "id": "3156f6e9-f8a4-40ac-9c18-1306c3ac7ead",
   "metadata": {
    "executionCancelledAt": null,
    "executionTime": 53,
    "lastExecutedAt": 1699558629222,
    "lastScheduledRunId": null,
    "lastSuccessfullyExecutedCode": "df.country.fillna('nan',inplace=True)\ndf.country.replace('','nan', inplace=True)\ndf = df[df['country'] != 'nan']\nprint(f\"The number of unique countries in the country column is {len(df['country'].unique())}\")\nprint()\nprint(df['country'].unique())",
    "outputsMetadata": {
     "0": {
      "height": 76,
      "type": "stream"
     }
    }
   },
   "outputs": [
    {
     "name": "stdout",
     "output_type": "stream",
     "text": [
      "The number of unique countries in the country column is 3\n",
      "\n",
      "['united states' 'united kingdom' 'south africa']\n"
     ]
    }
   ],
   "source": [
    "# removing nan and empty spaces\n",
    "df.country.fillna('nan',inplace=True)\n",
    "df.country.replace('','nan', inplace=True)\n",
    "df = df[df['country'] != 'nan']\n",
    "print(f\"The number of unique countries in the country column is {len(df['country'].unique())}\")\n",
    "print()\n",
    "print(df['country'].unique())"
   ]
  },
  {
   "cell_type": "code",
   "execution_count": 287,
   "id": "afe193dc-82e1-442d-bf37-81f2347d9728",
   "metadata": {
    "executionCancelledAt": null,
    "executionTime": 47,
    "lastExecutedAt": 1699558629269,
    "lastScheduledRunId": null,
    "lastSuccessfullyExecutedCode": "print(df['date_measured'])",
    "outputsMetadata": {
     "0": {
      "height": 251,
      "type": "stream"
     }
    }
   },
   "outputs": [
    {
     "name": "stdout",
     "output_type": "stream",
     "text": [
      "0        4-2-2006\n",
      "1        4-1-2006\n",
      "2       12-9-2003\n",
      "3        8-5-2006\n",
      "4       21-1-1973\n",
      "          ...    \n",
      "995     7-10-2005\n",
      "996    19-12-1990\n",
      "997     25-4-2009\n",
      "998     13-1-2011\n",
      "999     1-12-2011\n",
      "Name: date_measured, Length: 914, dtype: object\n"
     ]
    }
   ],
   "source": [
    "print(df['date_measured'])"
   ]
  },
  {
   "cell_type": "code",
   "execution_count": 288,
   "id": "733307e8-4ed2-4eed-87c4-08c746a21c23",
   "metadata": {
    "executionCancelledAt": null,
    "executionTime": 52,
    "lastExecutedAt": 1699558629321,
    "lastScheduledRunId": null,
    "lastSuccessfullyExecutedCode": "\ndf['date_parsed'] = pd.to_datetime(df['date_measured'],format='%d-%m-%Y')\nprint(df['date_parsed'])\ndf = df.drop(columns='date_measured')\nprint(df.columns)",
    "outputsMetadata": {
     "0": {
      "height": 310,
      "type": "stream"
     }
    }
   },
   "outputs": [
    {
     "name": "stdout",
     "output_type": "stream",
     "text": [
      "0     2006-02-04\n",
      "1     2006-01-04\n",
      "2     2003-09-12\n",
      "3     2006-05-08\n",
      "4     1973-01-21\n",
      "         ...    \n",
      "995   2005-10-07\n",
      "996   1990-12-19\n",
      "997   2009-04-25\n",
      "998   2011-01-13\n",
      "999   2011-12-01\n",
      "Name: date_parsed, Length: 914, dtype: datetime64[ns]\n",
      "Index(['id', 'store_name', 'store_email', 'department', 'income', 'country',\n",
      "       'date_parsed'],\n",
      "      dtype='object')\n"
     ]
    }
   ],
   "source": [
    "# parsing date\n",
    "df['date_parsed'] = pd.to_datetime(df['date_measured'],format='%d-%m-%Y')\n",
    "print(df['date_parsed'])\n",
    "df = df.drop(columns='date_measured')\n",
    "print(df.columns)"
   ]
  },
  {
   "cell_type": "code",
   "execution_count": 289,
   "id": "77fc1a2e-7f3a-41e1-ab55-94ee994447f1",
   "metadata": {
    "executionCancelledAt": null,
    "executionTime": 52,
    "jupyter": {
     "outputs_hidden": false,
     "source_hidden": false
    },
    "lastExecutedAt": 1699558629373,
    "lastScheduledRunId": null,
    "lastSuccessfullyExecutedCode": "df['today'] =  datetime.date.today()\nprint(df['today'])\ndf['today'] = pd.to_datetime(df['today'],format='%Y-%m-%d')\ndf['days_ago'] = df['today'] - df['date_parsed']\nprint(df['days_ago'].head())",
    "outputsMetadata": {
     "0": {
      "height": 368,
      "type": "stream"
     }
    }
   },
   "outputs": [
    {
     "name": "stdout",
     "output_type": "stream",
     "text": [
      "0      2023-11-09\n",
      "1      2023-11-09\n",
      "2      2023-11-09\n",
      "3      2023-11-09\n",
      "4      2023-11-09\n",
      "          ...    \n",
      "995    2023-11-09\n",
      "996    2023-11-09\n",
      "997    2023-11-09\n",
      "998    2023-11-09\n",
      "999    2023-11-09\n",
      "Name: today, Length: 914, dtype: object\n",
      "0    6487 days\n",
      "1    6518 days\n",
      "2    7363 days\n",
      "3    6394 days\n",
      "4   18554 days\n",
      "Name: days_ago, dtype: timedelta64[ns]\n"
     ]
    }
   ],
   "source": [
    "# Calculating the number of days ago\n",
    "df['today'] =  datetime.date.today()\n",
    "print(df['today'])\n",
    "df['today'] = pd.to_datetime(df['today'],format='%Y-%m-%d')\n",
    "df['days_ago'] = df['today'] - df['date_parsed']\n",
    "print(df['days_ago'].head())"
   ]
  }
 ],
 "metadata": {
  "editor": "DataCamp Workspace",
  "kernelspec": {
   "display_name": "Python 3 (ipykernel)",
   "language": "python",
   "name": "python3"
  },
  "language_info": {
   "codemirror_mode": {
    "name": "ipython",
    "version": 3
   },
   "file_extension": ".py",
   "mimetype": "text/x-python",
   "name": "python",
   "nbconvert_exporter": "python",
   "pygments_lexer": "ipython3",
   "version": "3.11.5"
  }
 },
 "nbformat": 4,
 "nbformat_minor": 5
}
